{
  "nbformat": 4,
  "nbformat_minor": 0,
  "metadata": {
    "colab": {
      "provenance": []
    },
    "kernelspec": {
      "name": "python3",
      "display_name": "Python 3"
    },
    "language_info": {
      "name": "python"
    }
  },
  "cells": [
    {
      "cell_type": "markdown",
      "source": [
        "# Robot Trading - Challenge BootCamp Data Science Alura"
      ],
      "metadata": {
        "id": "hXygBAgX9ojv"
      }
    },
    {
      "cell_type": "markdown",
      "source": [
        "## 1. Configuración del ambiente"
      ],
      "metadata": {
        "id": "xaSnIyYq9_xe"
      }
    },
    {
      "cell_type": "markdown",
      "source": [
        "Declarando variables globales"
      ],
      "metadata": {
        "id": "aFsKyobn-Iy9"
      }
    },
    {
      "cell_type": "code",
      "source": [
        "global df_bitcoin, precio_actual, tendencia, media_bitcoin,  algoritmo_decision"
      ],
      "metadata": {
        "id": "iDYXqCMZ-TDv"
      },
      "execution_count": 26,
      "outputs": []
    },
    {
      "cell_type": "markdown",
      "source": [
        "Importando librerias principales"
      ],
      "metadata": {
        "id": "XhZVSDxL-UA5"
      }
    },
    {
      "cell_type": "code",
      "source": [
        "import pandas as pd\n",
        "import numpy as np\n",
        "import seaborn as sns\n",
        "import matplotlib.pyplot as plt"
      ],
      "metadata": {
        "id": "9oFbWsL6-Wl6"
      },
      "execution_count": 27,
      "outputs": []
    },
    {
      "cell_type": "markdown",
      "source": [
        "Importando librerías secundarias"
      ],
      "metadata": {
        "id": "PE7eQGb2-0PT"
      }
    },
    {
      "cell_type": "code",
      "source": [
        "import yfinance as yf\n",
        "from bs4 import BeautifulSoup\n",
        "import requests\n",
        "import re\n",
        "from datetime import datetime, timedelta"
      ],
      "metadata": {
        "id": "QuHkLOi_-4ti"
      },
      "execution_count": 28,
      "outputs": []
    },
    {
      "cell_type": "markdown",
      "source": [
        "## 2. Obtención de datos"
      ],
      "metadata": {
        "id": "04_bOn9b_Bcy"
      }
    },
    {
      "cell_type": "code",
      "source": [
        "def importar_base_bitcoin():\n",
        "\n",
        "  ''' Importa el historico de los precios del BitCoin de los últimos 7 días en intervalos de 5 minutos'''\n",
        "\n",
        "  global df_bitcoin\n",
        "\n",
        "  end_day = datetime.today()\n",
        "  period = timedelta(days = 7)\n",
        "  start_day = end_day - period\n",
        "\n",
        "  ticker = yf.Ticker('BTC-USD')\n",
        "\n",
        "  df_bitcoin = ticker.history(start = start_day, end = end_day, interval = '5m')\n",
        "\n",
        "def extraer_tendencias():\n",
        "\n",
        "  ''' Extrae el precio actual y la tendencia a la 'baja' o a la 'alta' del BitCoin'''\n",
        "\n",
        "  global precio_actual, tendencia\n",
        "\n",
        "  headers = {'User-Agent' : 'Mozilla/5.0 (X11; Linux x86_64; rv:109.0) Gecko/20100101 Firefox/118.0'}\n",
        "  url = 'https://coinmarketcap.com/'\n",
        "\n",
        "  respuesta = requests.get(url, headers)\n",
        "  soup = BeautifulSoup(respuesta.content, features = 'lxml')\n",
        "\n",
        "  filas = soup.find_all('tr')\n",
        "\n",
        "  for f in filas:\n",
        "    names = f.findAll('p', {'class' : \"sc-4984dd93-0 kKpPOn\"})\n",
        "    actual_prices = f.findAll('div', {'class' : \"sc-a0353bbc-0 gDrtaY\"})\n",
        "    tendencias = f.findAll('span', {'class' : \"sc-d55c02b-0 iwhBxy\"})\n",
        "\n",
        "    dict_datos = procesar(names, actual_prices, tendencias)\n",
        "\n",
        "    if 'Bitcoin' in dict_datos:\n",
        "      break\n",
        "\n",
        "  precio_actual = dict_datos['Bitcoin']['precio_actual']\n",
        "  tendencia = dict_datos['Bitcoin']['tendencia']\n",
        "\n",
        "def procesar(nombres, precio_actual, tendencias) -> dict:\n",
        "\n",
        "  clase_tendencia = {\n",
        "      'icon-Caret-down' : 'baja',\n",
        "      'icon-Caret-up' : 'alta'\n",
        "  }\n",
        "  salida = dict()\n",
        "\n",
        "  for n, pa, t in zip(nombres, precio_actual, tendencias):\n",
        "    salida[n.text] = {\n",
        "        'precio_actual' : float(re.sub('[$,]', '', pa.text)),\n",
        "        'tendencia' : clase_tendencia[t.find('span')['class'][0]]\n",
        "    }\n",
        "\n",
        "  return salida"
      ],
      "metadata": {
        "id": "VN-JrZQ2_HTi"
      },
      "execution_count": 29,
      "outputs": []
    },
    {
      "cell_type": "code",
      "source": [
        "help(importar_base_bitcoin)"
      ],
      "metadata": {
        "colab": {
          "base_uri": "https://localhost:8080/"
        },
        "id": "O9sEz5KVbaEi",
        "outputId": "ad0ca0e0-9a49-45f1-d685-3b275adc6df0"
      },
      "execution_count": 30,
      "outputs": [
        {
          "output_type": "stream",
          "name": "stdout",
          "text": [
            "Help on function importar_base_bitcoin in module __main__:\n",
            "\n",
            "importar_base_bitcoin()\n",
            "    Importa el historico de los precios del BitCoin de los últimos 7 días en intervalos de 5 minutos\n",
            "\n"
          ]
        }
      ]
    },
    {
      "cell_type": "code",
      "source": [
        "help(extraer_tendencias)"
      ],
      "metadata": {
        "colab": {
          "base_uri": "https://localhost:8080/"
        },
        "id": "Pa0yuQ9pbmZ1",
        "outputId": "ea73d82b-9930-4e54-9fa8-5d6e51b8e093"
      },
      "execution_count": 31,
      "outputs": [
        {
          "output_type": "stream",
          "name": "stdout",
          "text": [
            "Help on function extraer_tendencias in module __main__:\n",
            "\n",
            "extraer_tendencias()\n",
            "    Extrae el precio actual y la tendencia a la 'baja' o a la 'alta' del BitCoin\n",
            "\n"
          ]
        }
      ]
    },
    {
      "cell_type": "markdown",
      "source": [
        "## 3. Limpieza de datos"
      ],
      "metadata": {
        "id": "dT3CH9NMac4B"
      }
    },
    {
      "cell_type": "code",
      "source": [
        "importar_base_bitcoin()\n",
        "\n",
        "df_bitcoin"
      ],
      "metadata": {
        "colab": {
          "base_uri": "https://localhost:8080/",
          "height": 455
        },
        "id": "HY1mVXuWOyho",
        "outputId": "1ec9b67b-12b0-4579-e443-7e6df515c5ce"
      },
      "execution_count": 32,
      "outputs": [
        {
          "output_type": "execute_result",
          "data": {
            "text/plain": [
              "                                   Open          High           Low  \\\n",
              "Datetime                                                              \n",
              "2023-10-25 04:55:00+00:00  34153.906250  34198.636719  34153.906250   \n",
              "2023-10-25 05:00:00+00:00  34194.378906  34194.378906  34152.484375   \n",
              "2023-10-25 05:05:00+00:00  34152.699219  34152.699219  34117.578125   \n",
              "2023-10-25 05:10:00+00:00  34157.144531  34176.156250  34146.308594   \n",
              "2023-10-25 05:15:00+00:00  34152.273438  34162.132812  34097.773438   \n",
              "...                                 ...           ...           ...   \n",
              "2023-11-01 04:35:00+00:00  34468.730469  34478.128906  34468.730469   \n",
              "2023-11-01 04:40:00+00:00  34473.890625  34476.410156  34469.507812   \n",
              "2023-11-01 04:45:00+00:00  34473.960938  34473.960938  34467.398438   \n",
              "2023-11-01 04:50:00+00:00  34470.015625  34470.015625  34464.871094   \n",
              "2023-11-01 04:55:00+00:00  34447.503906  34447.503906  34437.652344   \n",
              "\n",
              "                                  Close   Volume  Dividends  Stock Splits  \n",
              "Datetime                                                                   \n",
              "2023-10-25 04:55:00+00:00  34198.636719        0        0.0           0.0  \n",
              "2023-10-25 05:00:00+00:00  34167.320312        0        0.0           0.0  \n",
              "2023-10-25 05:05:00+00:00  34147.933594        0        0.0           0.0  \n",
              "2023-10-25 05:10:00+00:00  34152.769531        0        0.0           0.0  \n",
              "2023-10-25 05:15:00+00:00  34097.773438        0        0.0           0.0  \n",
              "...                                 ...      ...        ...           ...  \n",
              "2023-11-01 04:35:00+00:00  34476.035156  1759232        0.0           0.0  \n",
              "2023-11-01 04:40:00+00:00  34472.035156  3359744        0.0           0.0  \n",
              "2023-11-01 04:45:00+00:00  34470.027344  2694144        0.0           0.0  \n",
              "2023-11-01 04:50:00+00:00  34466.640625   510976        0.0           0.0  \n",
              "2023-11-01 04:55:00+00:00  34437.652344  1255424        0.0           0.0  \n",
              "\n",
              "[2017 rows x 7 columns]"
            ],
            "text/html": [
              "\n",
              "  <div id=\"df-f7948ea9-e9e4-4fb6-88d0-ebe809f00697\" class=\"colab-df-container\">\n",
              "    <div>\n",
              "<style scoped>\n",
              "    .dataframe tbody tr th:only-of-type {\n",
              "        vertical-align: middle;\n",
              "    }\n",
              "\n",
              "    .dataframe tbody tr th {\n",
              "        vertical-align: top;\n",
              "    }\n",
              "\n",
              "    .dataframe thead th {\n",
              "        text-align: right;\n",
              "    }\n",
              "</style>\n",
              "<table border=\"1\" class=\"dataframe\">\n",
              "  <thead>\n",
              "    <tr style=\"text-align: right;\">\n",
              "      <th></th>\n",
              "      <th>Open</th>\n",
              "      <th>High</th>\n",
              "      <th>Low</th>\n",
              "      <th>Close</th>\n",
              "      <th>Volume</th>\n",
              "      <th>Dividends</th>\n",
              "      <th>Stock Splits</th>\n",
              "    </tr>\n",
              "    <tr>\n",
              "      <th>Datetime</th>\n",
              "      <th></th>\n",
              "      <th></th>\n",
              "      <th></th>\n",
              "      <th></th>\n",
              "      <th></th>\n",
              "      <th></th>\n",
              "      <th></th>\n",
              "    </tr>\n",
              "  </thead>\n",
              "  <tbody>\n",
              "    <tr>\n",
              "      <th>2023-10-25 04:55:00+00:00</th>\n",
              "      <td>34153.906250</td>\n",
              "      <td>34198.636719</td>\n",
              "      <td>34153.906250</td>\n",
              "      <td>34198.636719</td>\n",
              "      <td>0</td>\n",
              "      <td>0.0</td>\n",
              "      <td>0.0</td>\n",
              "    </tr>\n",
              "    <tr>\n",
              "      <th>2023-10-25 05:00:00+00:00</th>\n",
              "      <td>34194.378906</td>\n",
              "      <td>34194.378906</td>\n",
              "      <td>34152.484375</td>\n",
              "      <td>34167.320312</td>\n",
              "      <td>0</td>\n",
              "      <td>0.0</td>\n",
              "      <td>0.0</td>\n",
              "    </tr>\n",
              "    <tr>\n",
              "      <th>2023-10-25 05:05:00+00:00</th>\n",
              "      <td>34152.699219</td>\n",
              "      <td>34152.699219</td>\n",
              "      <td>34117.578125</td>\n",
              "      <td>34147.933594</td>\n",
              "      <td>0</td>\n",
              "      <td>0.0</td>\n",
              "      <td>0.0</td>\n",
              "    </tr>\n",
              "    <tr>\n",
              "      <th>2023-10-25 05:10:00+00:00</th>\n",
              "      <td>34157.144531</td>\n",
              "      <td>34176.156250</td>\n",
              "      <td>34146.308594</td>\n",
              "      <td>34152.769531</td>\n",
              "      <td>0</td>\n",
              "      <td>0.0</td>\n",
              "      <td>0.0</td>\n",
              "    </tr>\n",
              "    <tr>\n",
              "      <th>2023-10-25 05:15:00+00:00</th>\n",
              "      <td>34152.273438</td>\n",
              "      <td>34162.132812</td>\n",
              "      <td>34097.773438</td>\n",
              "      <td>34097.773438</td>\n",
              "      <td>0</td>\n",
              "      <td>0.0</td>\n",
              "      <td>0.0</td>\n",
              "    </tr>\n",
              "    <tr>\n",
              "      <th>...</th>\n",
              "      <td>...</td>\n",
              "      <td>...</td>\n",
              "      <td>...</td>\n",
              "      <td>...</td>\n",
              "      <td>...</td>\n",
              "      <td>...</td>\n",
              "      <td>...</td>\n",
              "    </tr>\n",
              "    <tr>\n",
              "      <th>2023-11-01 04:35:00+00:00</th>\n",
              "      <td>34468.730469</td>\n",
              "      <td>34478.128906</td>\n",
              "      <td>34468.730469</td>\n",
              "      <td>34476.035156</td>\n",
              "      <td>1759232</td>\n",
              "      <td>0.0</td>\n",
              "      <td>0.0</td>\n",
              "    </tr>\n",
              "    <tr>\n",
              "      <th>2023-11-01 04:40:00+00:00</th>\n",
              "      <td>34473.890625</td>\n",
              "      <td>34476.410156</td>\n",
              "      <td>34469.507812</td>\n",
              "      <td>34472.035156</td>\n",
              "      <td>3359744</td>\n",
              "      <td>0.0</td>\n",
              "      <td>0.0</td>\n",
              "    </tr>\n",
              "    <tr>\n",
              "      <th>2023-11-01 04:45:00+00:00</th>\n",
              "      <td>34473.960938</td>\n",
              "      <td>34473.960938</td>\n",
              "      <td>34467.398438</td>\n",
              "      <td>34470.027344</td>\n",
              "      <td>2694144</td>\n",
              "      <td>0.0</td>\n",
              "      <td>0.0</td>\n",
              "    </tr>\n",
              "    <tr>\n",
              "      <th>2023-11-01 04:50:00+00:00</th>\n",
              "      <td>34470.015625</td>\n",
              "      <td>34470.015625</td>\n",
              "      <td>34464.871094</td>\n",
              "      <td>34466.640625</td>\n",
              "      <td>510976</td>\n",
              "      <td>0.0</td>\n",
              "      <td>0.0</td>\n",
              "    </tr>\n",
              "    <tr>\n",
              "      <th>2023-11-01 04:55:00+00:00</th>\n",
              "      <td>34447.503906</td>\n",
              "      <td>34447.503906</td>\n",
              "      <td>34437.652344</td>\n",
              "      <td>34437.652344</td>\n",
              "      <td>1255424</td>\n",
              "      <td>0.0</td>\n",
              "      <td>0.0</td>\n",
              "    </tr>\n",
              "  </tbody>\n",
              "</table>\n",
              "<p>2017 rows × 7 columns</p>\n",
              "</div>\n",
              "    <div class=\"colab-df-buttons\">\n",
              "\n",
              "  <div class=\"colab-df-container\">\n",
              "    <button class=\"colab-df-convert\" onclick=\"convertToInteractive('df-f7948ea9-e9e4-4fb6-88d0-ebe809f00697')\"\n",
              "            title=\"Convert this dataframe to an interactive table.\"\n",
              "            style=\"display:none;\">\n",
              "\n",
              "  <svg xmlns=\"http://www.w3.org/2000/svg\" height=\"24px\" viewBox=\"0 -960 960 960\">\n",
              "    <path d=\"M120-120v-720h720v720H120Zm60-500h600v-160H180v160Zm220 220h160v-160H400v160Zm0 220h160v-160H400v160ZM180-400h160v-160H180v160Zm440 0h160v-160H620v160ZM180-180h160v-160H180v160Zm440 0h160v-160H620v160Z\"/>\n",
              "  </svg>\n",
              "    </button>\n",
              "\n",
              "  <style>\n",
              "    .colab-df-container {\n",
              "      display:flex;\n",
              "      gap: 12px;\n",
              "    }\n",
              "\n",
              "    .colab-df-convert {\n",
              "      background-color: #E8F0FE;\n",
              "      border: none;\n",
              "      border-radius: 50%;\n",
              "      cursor: pointer;\n",
              "      display: none;\n",
              "      fill: #1967D2;\n",
              "      height: 32px;\n",
              "      padding: 0 0 0 0;\n",
              "      width: 32px;\n",
              "    }\n",
              "\n",
              "    .colab-df-convert:hover {\n",
              "      background-color: #E2EBFA;\n",
              "      box-shadow: 0px 1px 2px rgba(60, 64, 67, 0.3), 0px 1px 3px 1px rgba(60, 64, 67, 0.15);\n",
              "      fill: #174EA6;\n",
              "    }\n",
              "\n",
              "    .colab-df-buttons div {\n",
              "      margin-bottom: 4px;\n",
              "    }\n",
              "\n",
              "    [theme=dark] .colab-df-convert {\n",
              "      background-color: #3B4455;\n",
              "      fill: #D2E3FC;\n",
              "    }\n",
              "\n",
              "    [theme=dark] .colab-df-convert:hover {\n",
              "      background-color: #434B5C;\n",
              "      box-shadow: 0px 1px 3px 1px rgba(0, 0, 0, 0.15);\n",
              "      filter: drop-shadow(0px 1px 2px rgba(0, 0, 0, 0.3));\n",
              "      fill: #FFFFFF;\n",
              "    }\n",
              "  </style>\n",
              "\n",
              "    <script>\n",
              "      const buttonEl =\n",
              "        document.querySelector('#df-f7948ea9-e9e4-4fb6-88d0-ebe809f00697 button.colab-df-convert');\n",
              "      buttonEl.style.display =\n",
              "        google.colab.kernel.accessAllowed ? 'block' : 'none';\n",
              "\n",
              "      async function convertToInteractive(key) {\n",
              "        const element = document.querySelector('#df-f7948ea9-e9e4-4fb6-88d0-ebe809f00697');\n",
              "        const dataTable =\n",
              "          await google.colab.kernel.invokeFunction('convertToInteractive',\n",
              "                                                    [key], {});\n",
              "        if (!dataTable) return;\n",
              "\n",
              "        const docLinkHtml = 'Like what you see? Visit the ' +\n",
              "          '<a target=\"_blank\" href=https://colab.research.google.com/notebooks/data_table.ipynb>data table notebook</a>'\n",
              "          + ' to learn more about interactive tables.';\n",
              "        element.innerHTML = '';\n",
              "        dataTable['output_type'] = 'display_data';\n",
              "        await google.colab.output.renderOutput(dataTable, element);\n",
              "        const docLink = document.createElement('div');\n",
              "        docLink.innerHTML = docLinkHtml;\n",
              "        element.appendChild(docLink);\n",
              "      }\n",
              "    </script>\n",
              "  </div>\n",
              "\n",
              "\n",
              "<div id=\"df-46d1056f-3444-4df4-9e42-bb18b91b1389\">\n",
              "  <button class=\"colab-df-quickchart\" onclick=\"quickchart('df-46d1056f-3444-4df4-9e42-bb18b91b1389')\"\n",
              "            title=\"Suggest charts.\"\n",
              "            style=\"display:none;\">\n",
              "\n",
              "<svg xmlns=\"http://www.w3.org/2000/svg\" height=\"24px\"viewBox=\"0 0 24 24\"\n",
              "     width=\"24px\">\n",
              "    <g>\n",
              "        <path d=\"M19 3H5c-1.1 0-2 .9-2 2v14c0 1.1.9 2 2 2h14c1.1 0 2-.9 2-2V5c0-1.1-.9-2-2-2zM9 17H7v-7h2v7zm4 0h-2V7h2v10zm4 0h-2v-4h2v4z\"/>\n",
              "    </g>\n",
              "</svg>\n",
              "  </button>\n",
              "\n",
              "<style>\n",
              "  .colab-df-quickchart {\n",
              "      --bg-color: #E8F0FE;\n",
              "      --fill-color: #1967D2;\n",
              "      --hover-bg-color: #E2EBFA;\n",
              "      --hover-fill-color: #174EA6;\n",
              "      --disabled-fill-color: #AAA;\n",
              "      --disabled-bg-color: #DDD;\n",
              "  }\n",
              "\n",
              "  [theme=dark] .colab-df-quickchart {\n",
              "      --bg-color: #3B4455;\n",
              "      --fill-color: #D2E3FC;\n",
              "      --hover-bg-color: #434B5C;\n",
              "      --hover-fill-color: #FFFFFF;\n",
              "      --disabled-bg-color: #3B4455;\n",
              "      --disabled-fill-color: #666;\n",
              "  }\n",
              "\n",
              "  .colab-df-quickchart {\n",
              "    background-color: var(--bg-color);\n",
              "    border: none;\n",
              "    border-radius: 50%;\n",
              "    cursor: pointer;\n",
              "    display: none;\n",
              "    fill: var(--fill-color);\n",
              "    height: 32px;\n",
              "    padding: 0;\n",
              "    width: 32px;\n",
              "  }\n",
              "\n",
              "  .colab-df-quickchart:hover {\n",
              "    background-color: var(--hover-bg-color);\n",
              "    box-shadow: 0 1px 2px rgba(60, 64, 67, 0.3), 0 1px 3px 1px rgba(60, 64, 67, 0.15);\n",
              "    fill: var(--button-hover-fill-color);\n",
              "  }\n",
              "\n",
              "  .colab-df-quickchart-complete:disabled,\n",
              "  .colab-df-quickchart-complete:disabled:hover {\n",
              "    background-color: var(--disabled-bg-color);\n",
              "    fill: var(--disabled-fill-color);\n",
              "    box-shadow: none;\n",
              "  }\n",
              "\n",
              "  .colab-df-spinner {\n",
              "    border: 2px solid var(--fill-color);\n",
              "    border-color: transparent;\n",
              "    border-bottom-color: var(--fill-color);\n",
              "    animation:\n",
              "      spin 1s steps(1) infinite;\n",
              "  }\n",
              "\n",
              "  @keyframes spin {\n",
              "    0% {\n",
              "      border-color: transparent;\n",
              "      border-bottom-color: var(--fill-color);\n",
              "      border-left-color: var(--fill-color);\n",
              "    }\n",
              "    20% {\n",
              "      border-color: transparent;\n",
              "      border-left-color: var(--fill-color);\n",
              "      border-top-color: var(--fill-color);\n",
              "    }\n",
              "    30% {\n",
              "      border-color: transparent;\n",
              "      border-left-color: var(--fill-color);\n",
              "      border-top-color: var(--fill-color);\n",
              "      border-right-color: var(--fill-color);\n",
              "    }\n",
              "    40% {\n",
              "      border-color: transparent;\n",
              "      border-right-color: var(--fill-color);\n",
              "      border-top-color: var(--fill-color);\n",
              "    }\n",
              "    60% {\n",
              "      border-color: transparent;\n",
              "      border-right-color: var(--fill-color);\n",
              "    }\n",
              "    80% {\n",
              "      border-color: transparent;\n",
              "      border-right-color: var(--fill-color);\n",
              "      border-bottom-color: var(--fill-color);\n",
              "    }\n",
              "    90% {\n",
              "      border-color: transparent;\n",
              "      border-bottom-color: var(--fill-color);\n",
              "    }\n",
              "  }\n",
              "</style>\n",
              "\n",
              "  <script>\n",
              "    async function quickchart(key) {\n",
              "      const quickchartButtonEl =\n",
              "        document.querySelector('#' + key + ' button');\n",
              "      quickchartButtonEl.disabled = true;  // To prevent multiple clicks.\n",
              "      quickchartButtonEl.classList.add('colab-df-spinner');\n",
              "      try {\n",
              "        const charts = await google.colab.kernel.invokeFunction(\n",
              "            'suggestCharts', [key], {});\n",
              "      } catch (error) {\n",
              "        console.error('Error during call to suggestCharts:', error);\n",
              "      }\n",
              "      quickchartButtonEl.classList.remove('colab-df-spinner');\n",
              "      quickchartButtonEl.classList.add('colab-df-quickchart-complete');\n",
              "    }\n",
              "    (() => {\n",
              "      let quickchartButtonEl =\n",
              "        document.querySelector('#df-46d1056f-3444-4df4-9e42-bb18b91b1389 button');\n",
              "      quickchartButtonEl.style.display =\n",
              "        google.colab.kernel.accessAllowed ? 'block' : 'none';\n",
              "    })();\n",
              "  </script>\n",
              "</div>\n",
              "    </div>\n",
              "  </div>\n"
            ]
          },
          "metadata": {},
          "execution_count": 32
        }
      ]
    },
    {
      "cell_type": "code",
      "source": [
        "def limpieza_datos():\n",
        "  global df_bitcoin, media_bitcoin\n",
        "\n",
        "  # Crear un duplicado\n",
        "  df_bitcoin_limpio = df_bitcoin.copy()\n",
        "\n",
        "  # Tratar duplicados en el índice (Datetime)\n",
        "\n",
        "  df_bitcoin_limpio = df_bitcoin_limpio[~df_bitcoin_limpio.index.duplicated()]\n",
        "\n",
        "  #  Valores nulos en Close\n",
        "\n",
        "  df_bitcoin_limpio = df_bitcoin_limpio[df_bitcoin_limpio.Close.notna()]\n",
        "\n",
        "  # Valores de Volume mayores a 0\n",
        "\n",
        "  df_bitcoin_limpio = df_bitcoin_limpio.query('Volume > 0')\n",
        "  df_bitcoin_limpio\n",
        "\n",
        "  # Eliminar outliers\n",
        "\n",
        "  Q1 = df_bitcoin_limpio.Close.quantile(0.25)\n",
        "  Q3 = df_bitcoin_limpio.Close.quantile(0.75)\n",
        "  IQR = Q3 - Q1\n",
        "  min_close = Q1 - 1.5 * IQR\n",
        "  max_close = Q3 + 1.5 * IQR\n",
        "\n",
        "  df_bitcoin_limpio = df_bitcoin_limpio.query('Close >= @min_close & Close <= @max_close')\n",
        "\n",
        "  # Promedio de los datos de Close entre Q1 y Q3\n",
        "  media_bitcoin = df_bitcoin_limpio.query('Close >= @Q1 & Close <= @Q3').Close.mean()"
      ],
      "metadata": {
        "id": "SpX3NRJsbyz9"
      },
      "execution_count": 33,
      "outputs": []
    },
    {
      "cell_type": "markdown",
      "source": [
        "## 4. Tomar decisiones"
      ],
      "metadata": {
        "id": "qi9w-m7_fe29"
      }
    },
    {
      "cell_type": "code",
      "source": [
        "limpieza_datos()\n",
        "extraer_tendencias()"
      ],
      "metadata": {
        "id": "p68Eib6cZmDB"
      },
      "execution_count": 34,
      "outputs": []
    },
    {
      "cell_type": "code",
      "source": [
        "def tomar_decisiones():\n",
        "  global precio_actual, tendencia, media_bitcoin, algoritmo_decision\n",
        "\n",
        "  if precio_actual >= media_bitcoin and tendencia == 'baja':\n",
        "    algoritmo_decision = 'Vender'\n",
        "  elif precio_actual < media_bitcoin and tendencia == 'alta':\n",
        "    algoritmo_decision = 'comprar'\n",
        "  else:\n",
        "    algoritmo_decision = ''"
      ],
      "metadata": {
        "id": "_IAOBUjPZs8_"
      },
      "execution_count": 35,
      "outputs": []
    },
    {
      "cell_type": "markdown",
      "source": [
        "## 5. Visualización"
      ],
      "metadata": {
        "id": "qCFlHgfpbcqQ"
      }
    },
    {
      "cell_type": "code",
      "source": [
        "def visualizacion():\n",
        "  global df_bitcoin, precio_actual, tendencia, media_bitcoin,  algoritmo_decision\n",
        "\n",
        "  df_bitcoin['Promedio'] = media_bitcoin\n",
        "\n",
        "  color_legend = {\n",
        "      'baja' : 'r',\n",
        "      'alta' : 'g'\n",
        "  }\n",
        "\n",
        "  plt.figure(figsize = (16, 5))\n",
        "  plt.title('Histórico de los últimos 7 días del Bitcoin (USD)')\n",
        "  sns.lineplot(data = df_bitcoin[['Close', 'Promedio']], palette = {'Close' : 'b', 'Promedio' : 'r'})\n",
        "  plt.annotate(f'A la {tendencia}', (df_bitcoin.index.max(), df_bitcoin.tail(1).Close), color = color_legend[tendencia])\n",
        "  plt.show()"
      ],
      "metadata": {
        "id": "FkleuAucbhG-"
      },
      "execution_count": 36,
      "outputs": []
    },
    {
      "cell_type": "markdown",
      "source": [
        "## 6. Automatización"
      ],
      "metadata": {
        "id": "HHSkD1SPn030"
      }
    },
    {
      "cell_type": "code",
      "source": [
        "from IPython.display import clear_output\n",
        "import time"
      ],
      "metadata": {
        "id": "d7csPcILoQ3r"
      },
      "execution_count": 37,
      "outputs": []
    },
    {
      "cell_type": "code",
      "source": [
        "while(True):\n",
        "  clear_output()\n",
        "  importar_base_bitcoin()\n",
        "  extraer_tendencias()\n",
        "  limpieza_datos()\n",
        "  tomar_decisiones()\n",
        "  visualizacion()\n",
        "  time.sleep(300)"
      ],
      "metadata": {
        "colab": {
          "base_uri": "https://localhost:8080/",
          "height": 683
        },
        "id": "1HMWjN4eoPfo",
        "outputId": "fa8ca6fc-aee5-48bf-a480-949d27451974"
      },
      "execution_count": 38,
      "outputs": [
        {
          "output_type": "display_data",
          "data": {
            "text/plain": [
              "<Figure size 1600x500 with 1 Axes>"
            ],
            "image/png": "[encoded data removed]"
          },
          "metadata": {}
        },
        {
          "output_type": "error",
          "ename": "KeyboardInterrupt",
          "evalue": "ignored",
          "traceback": [
            "\u001b[0;31m---------------------------------------------------------------------------\u001b[0m",
            "\u001b[0;31mKeyboardInterrupt\u001b[0m                         Traceback (most recent call last)",
            "\u001b[0;32m<ipython-input-38-88c8911ab8c4>\u001b[0m in \u001b[0;36m<cell line: 1>\u001b[0;34m()\u001b[0m\n\u001b[1;32m      6\u001b[0m   \u001b[0mtomar_decisiones\u001b[0m\u001b[0;34m(\u001b[0m\u001b[0;34m)\u001b[0m\u001b[0;34m\u001b[0m\u001b[0;34m\u001b[0m\u001b[0m\n\u001b[1;32m      7\u001b[0m   \u001b[0mvisualizacion\u001b[0m\u001b[0;34m(\u001b[0m\u001b[0;34m)\u001b[0m\u001b[0;34m\u001b[0m\u001b[0;34m\u001b[0m\u001b[0m\n\u001b[0;32m----> 8\u001b[0;31m   \u001b[0mtime\u001b[0m\u001b[0;34m.\u001b[0m\u001b[0msleep\u001b[0m\u001b[0;34m(\u001b[0m\u001b[0;36m300\u001b[0m\u001b[0;34m)\u001b[0m\u001b[0;34m\u001b[0m\u001b[0;34m\u001b[0m\u001b[0m\n\u001b[0m",
            "\u001b[0;31mKeyboardInterrupt\u001b[0m: "
          ]
        }
      ]
    }
  ]
}