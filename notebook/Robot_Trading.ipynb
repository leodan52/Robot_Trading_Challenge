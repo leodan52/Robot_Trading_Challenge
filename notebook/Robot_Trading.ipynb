{
  "nbformat": 4,
  "nbformat_minor": 0,
  "metadata": {
    "colab": {
      "provenance": [],
      "authorship_tag": "ABX9TyP4/3YW+YyH/qLErNanoU7x",
      "include_colab_link": true
    },
    "kernelspec": {
      "name": "python3",
      "display_name": "Python 3"
    },
    "language_info": {
      "name": "python"
    }
  },
  "cells": [
    {
      "cell_type": "markdown",
      "metadata": {
        "id": "view-in-github",
        "colab_type": "text"
      },
      "source": [
        "<a href=\"https://colab.research.google.com/github/leodan52/Robot_Trading_Challenge/blob/main/notebook/Robot_Trading.ipynb\" target=\"_parent\"><img src=\"https://colab.research.google.com/assets/colab-badge.svg\" alt=\"Open In Colab\"/></a>"
      ]
    },
    {
      "cell_type": "markdown",
      "source": [
        "# Robot Trading - Challenge BootCamp Data Science Alura"
      ],
      "metadata": {
        "id": "hXygBAgX9ojv"
      }
    },
    {
      "cell_type": "markdown",
      "source": [
        "## 1. Configuración del ambiente"
      ],
      "metadata": {
        "id": "xaSnIyYq9_xe"
      }
    },
    {
      "cell_type": "markdown",
      "source": [
        "Declarando variables globales"
      ],
      "metadata": {
        "id": "aFsKyobn-Iy9"
      }
    },
    {
      "cell_type": "code",
      "source": [
        "global df_bitcoin, precio_actual, tendencia, media_bitcoin,  algoritmo_decision"
      ],
      "metadata": {
        "id": "iDYXqCMZ-TDv"
      },
      "execution_count": 47,
      "outputs": []
    },
    {
      "cell_type": "markdown",
      "source": [
        "Importando librerias principales"
      ],
      "metadata": {
        "id": "XhZVSDxL-UA5"
      }
    },
    {
      "cell_type": "code",
      "source": [
        "import pandas as pd\n",
        "import numpy as np\n",
        "import seaborn as sns\n",
        "import matplotlib.pyplot as plt"
      ],
      "metadata": {
        "id": "9oFbWsL6-Wl6"
      },
      "execution_count": 48,
      "outputs": []
    },
    {
      "cell_type": "markdown",
      "source": [
        "Importando librerías secundarias"
      ],
      "metadata": {
        "id": "PE7eQGb2-0PT"
      }
    },
    {
      "cell_type": "code",
      "source": [
        "import yfinance as yf\n",
        "from bs4 import BeautifulSoup\n",
        "import requests\n",
        "import re\n",
        "from datetime import datetime, timedelta"
      ],
      "metadata": {
        "id": "QuHkLOi_-4ti"
      },
      "execution_count": 49,
      "outputs": []
    },
    {
      "cell_type": "markdown",
      "source": [
        "## 2. Obtención de datos"
      ],
      "metadata": {
        "id": "04_bOn9b_Bcy"
      }
    },
    {
      "cell_type": "code",
      "source": [
        "def importar_base_bitcoin():\n",
        "\n",
        "  ''' Importa el historico de los precios del BitCoin de los últimos 7 días en intervalos de 5 minutos'''\n",
        "\n",
        "  global df_bitcoin\n",
        "\n",
        "  end_day = datetime.today()\n",
        "  period = timedelta(days = 7)\n",
        "  start_day = end_day - period\n",
        "\n",
        "  ticker = yf.Ticker('BTC-USD')\n",
        "\n",
        "  df_bitcoin = ticker.history(start = start_day, end = end_day, interval = '5m')\n",
        "\n",
        "def extraer_tendencias():\n",
        "\n",
        "  ''' Extrae el precio actual y la tendencia a la 'baja' o a la 'alta' del BitCoin'''\n",
        "\n",
        "  global precio_actual, tendencia\n",
        "\n",
        "  headers = {'User-Agent' : 'Mozilla/5.0 (X11; Linux x86_64; rv:109.0) Gecko/20100101 Firefox/118.0'}\n",
        "  url = 'https://coinmarketcap.com/'\n",
        "\n",
        "  respuesta = requests.get(url, headers)\n",
        "  soup = BeautifulSoup(respuesta.content, features = 'lxml')\n",
        "\n",
        "  filas = soup.find_all('tr')\n",
        "\n",
        "  for f in filas:\n",
        "    names = f.findAll('p', {'class' : \"sc-4984dd93-0 kKpPOn\"})\n",
        "    actual_prices = f.findAll('div', {'class' : \"sc-a0353bbc-0 gDrtaY\"})\n",
        "    tendencias = f.findAll('span', {'class' : \"sc-d55c02b-0\"})\n",
        "\n",
        "    if not (len(names) == 1 and len(actual_prices) == 1 and len(tendencias) == 3):\n",
        "      continue\n",
        "\n",
        "    dict_datos = procesar(names[0], actual_prices[0], tendencias)\n",
        "\n",
        "    if 'Bitcoin' in dict_datos:\n",
        "      break\n",
        "\n",
        "  precio_actual = dict_datos['Bitcoin']['precio_actual']\n",
        "  tendencia = dict_datos['Bitcoin']['tendencia1h']\n",
        "\n",
        "def procesar(nombre, precio_actual, tendencias) -> dict:\n",
        "\n",
        "  clase_tendencia = {\n",
        "      'icon-Caret-down' : 'baja',\n",
        "      'icon-Caret-up' : 'alta'\n",
        "  }\n",
        "  salida = {\n",
        "      nombre.text : {\n",
        "      'precio_actual' : float(re.sub('[$,]', '', precio_actual.text)),\n",
        "      'tendencia1h' : clase_tendencia[tendencias[0].span['class'][0]],\n",
        "      'tendencia24h' : clase_tendencia[tendencias[1].span['class'][0]],\n",
        "      'tendencia7d' : clase_tendencia[tendencias[2].span['class'][0]]\n",
        "    }\n",
        "  }\n",
        "\n",
        "  return salida"
      ],
      "metadata": {
        "id": "VN-JrZQ2_HTi"
      },
      "execution_count": 50,
      "outputs": []
    },
    {
      "cell_type": "code",
      "source": [
        "help(importar_base_bitcoin)"
      ],
      "metadata": {
        "colab": {
          "base_uri": "https://localhost:8080/"
        },
        "id": "O9sEz5KVbaEi",
        "outputId": "2cadd63a-bc9d-4304-8041-362fe3617b5d"
      },
      "execution_count": 51,
      "outputs": [
        {
          "output_type": "stream",
          "name": "stdout",
          "text": [
            "Help on function importar_base_bitcoin in module __main__:\n",
            "\n",
            "importar_base_bitcoin()\n",
            "    Importa el historico de los precios del BitCoin de los últimos 7 días en intervalos de 5 minutos\n",
            "\n"
          ]
        }
      ]
    },
    {
      "cell_type": "code",
      "source": [
        "help(extraer_tendencias)"
      ],
      "metadata": {
        "colab": {
          "base_uri": "https://localhost:8080/"
        },
        "id": "Pa0yuQ9pbmZ1",
        "outputId": "51812b60-35d8-4c08-ec63-44470ad84144"
      },
      "execution_count": 52,
      "outputs": [
        {
          "output_type": "stream",
          "name": "stdout",
          "text": [
            "Help on function extraer_tendencias in module __main__:\n",
            "\n",
            "extraer_tendencias()\n",
            "    Extrae el precio actual y la tendencia a la 'baja' o a la 'alta' del BitCoin\n",
            "\n"
          ]
        }
      ]
    },
    {
      "cell_type": "markdown",
      "source": [
        "## 3. Limpieza de datos"
      ],
      "metadata": {
        "id": "dT3CH9NMac4B"
      }
    },
    {
      "cell_type": "code",
      "source": [
        "importar_base_bitcoin()\n",
        "\n",
        "df_bitcoin"
      ],
      "metadata": {
        "colab": {
          "base_uri": "https://localhost:8080/",
          "height": 455
        },
        "id": "HY1mVXuWOyho",
        "outputId": "6c766a29-c3f7-4f8a-d91a-60710d3916b9"
      },
      "execution_count": 53,
      "outputs": [
        {
          "output_type": "execute_result",
          "data": {
            "text/plain": [
              "                                   Open          High           Low  \\\n",
              "Datetime                                                              \n",
              "2023-10-27 01:45:00+00:00  33996.035156  33996.035156  33905.578125   \n",
              "2023-10-27 01:50:00+00:00  33927.367188  33927.367188  33835.441406   \n",
              "2023-10-27 01:55:00+00:00  33797.132812  33872.480469  33797.132812   \n",
              "2023-10-27 02:00:00+00:00  33852.261719  33860.597656  33827.980469   \n",
              "2023-10-27 02:05:00+00:00  33898.031250  33927.160156  33898.031250   \n",
              "...                                 ...           ...           ...   \n",
              "2023-11-03 01:20:00+00:00  34410.925781  34488.722656  34410.925781   \n",
              "2023-11-03 01:25:00+00:00  34529.531250  34574.675781  34529.531250   \n",
              "2023-11-03 01:30:00+00:00  34576.312500  34620.750000  34576.312500   \n",
              "2023-11-03 01:35:00+00:00  34620.519531  34620.519531  34583.906250   \n",
              "2023-11-03 01:40:00+00:00  34610.500000  34610.500000  34592.175781   \n",
              "\n",
              "                                  Close    Volume  Dividends  Stock Splits  \n",
              "Datetime                                                                    \n",
              "2023-10-27 01:45:00+00:00  33946.894531         0        0.0           0.0  \n",
              "2023-10-27 01:50:00+00:00  33835.441406  22906880        0.0           0.0  \n",
              "2023-10-27 01:55:00+00:00  33856.820312  56416256        0.0           0.0  \n",
              "2023-10-27 02:00:00+00:00  33856.066406         0        0.0           0.0  \n",
              "2023-10-27 02:05:00+00:00  33924.414062  21725184        0.0           0.0  \n",
              "...                                 ...       ...        ...           ...  \n",
              "2023-11-03 01:20:00+00:00  34488.722656  17328128        0.0           0.0  \n",
              "2023-11-03 01:25:00+00:00  34574.675781  40380416        0.0           0.0  \n",
              "2023-11-03 01:30:00+00:00  34620.750000  16992256        0.0           0.0  \n",
              "2023-11-03 01:35:00+00:00  34611.015625   8202240        0.0           0.0  \n",
              "2023-11-03 01:40:00+00:00  34596.496094   4933632        0.0           0.0  \n",
              "\n",
              "[2003 rows x 7 columns]"
            ],
            "text/html": [
              "\n",
              "  <div id=\"df-ef9fbae4-9b31-4e49-ac85-7d815cdc27bb\" class=\"colab-df-container\">\n",
              "    <div>\n",
              "<style scoped>\n",
              "    .dataframe tbody tr th:only-of-type {\n",
              "        vertical-align: middle;\n",
              "    }\n",
              "\n",
              "    .dataframe tbody tr th {\n",
              "        vertical-align: top;\n",
              "    }\n",
              "\n",
              "    .dataframe thead th {\n",
              "        text-align: right;\n",
              "    }\n",
              "</style>\n",
              "<table border=\"1\" class=\"dataframe\">\n",
              "  <thead>\n",
              "    <tr style=\"text-align: right;\">\n",
              "      <th></th>\n",
              "      <th>Open</th>\n",
              "      <th>High</th>\n",
              "      <th>Low</th>\n",
              "      <th>Close</th>\n",
              "      <th>Volume</th>\n",
              "      <th>Dividends</th>\n",
              "      <th>Stock Splits</th>\n",
              "    </tr>\n",
              "    <tr>\n",
              "      <th>Datetime</th>\n",
              "      <th></th>\n",
              "      <th></th>\n",
              "      <th></th>\n",
              "      <th></th>\n",
              "      <th></th>\n",
              "      <th></th>\n",
              "      <th></th>\n",
              "    </tr>\n",
              "  </thead>\n",
              "  <tbody>\n",
              "    <tr>\n",
              "      <th>2023-10-27 01:45:00+00:00</th>\n",
              "      <td>33996.035156</td>\n",
              "      <td>33996.035156</td>\n",
              "      <td>33905.578125</td>\n",
              "      <td>33946.894531</td>\n",
              "      <td>0</td>\n",
              "      <td>0.0</td>\n",
              "      <td>0.0</td>\n",
              "    </tr>\n",
              "    <tr>\n",
              "      <th>2023-10-27 01:50:00+00:00</th>\n",
              "      <td>33927.367188</td>\n",
              "      <td>33927.367188</td>\n",
              "      <td>33835.441406</td>\n",
              "      <td>33835.441406</td>\n",
              "      <td>22906880</td>\n",
              "      <td>0.0</td>\n",
              "      <td>0.0</td>\n",
              "    </tr>\n",
              "    <tr>\n",
              "      <th>2023-10-27 01:55:00+00:00</th>\n",
              "      <td>33797.132812</td>\n",
              "      <td>33872.480469</td>\n",
              "      <td>33797.132812</td>\n",
              "      <td>33856.820312</td>\n",
              "      <td>56416256</td>\n",
              "      <td>0.0</td>\n",
              "      <td>0.0</td>\n",
              "    </tr>\n",
              "    <tr>\n",
              "      <th>2023-10-27 02:00:00+00:00</th>\n",
              "      <td>33852.261719</td>\n",
              "      <td>33860.597656</td>\n",
              "      <td>33827.980469</td>\n",
              "      <td>33856.066406</td>\n",
              "      <td>0</td>\n",
              "      <td>0.0</td>\n",
              "      <td>0.0</td>\n",
              "    </tr>\n",
              "    <tr>\n",
              "      <th>2023-10-27 02:05:00+00:00</th>\n",
              "      <td>33898.031250</td>\n",
              "      <td>33927.160156</td>\n",
              "      <td>33898.031250</td>\n",
              "      <td>33924.414062</td>\n",
              "      <td>21725184</td>\n",
              "      <td>0.0</td>\n",
              "      <td>0.0</td>\n",
              "    </tr>\n",
              "    <tr>\n",
              "      <th>...</th>\n",
              "      <td>...</td>\n",
              "      <td>...</td>\n",
              "      <td>...</td>\n",
              "      <td>...</td>\n",
              "      <td>...</td>\n",
              "      <td>...</td>\n",
              "      <td>...</td>\n",
              "    </tr>\n",
              "    <tr>\n",
              "      <th>2023-11-03 01:20:00+00:00</th>\n",
              "      <td>34410.925781</td>\n",
              "      <td>34488.722656</td>\n",
              "      <td>34410.925781</td>\n",
              "      <td>34488.722656</td>\n",
              "      <td>17328128</td>\n",
              "      <td>0.0</td>\n",
              "      <td>0.0</td>\n",
              "    </tr>\n",
              "    <tr>\n",
              "      <th>2023-11-03 01:25:00+00:00</th>\n",
              "      <td>34529.531250</td>\n",
              "      <td>34574.675781</td>\n",
              "      <td>34529.531250</td>\n",
              "      <td>34574.675781</td>\n",
              "      <td>40380416</td>\n",
              "      <td>0.0</td>\n",
              "      <td>0.0</td>\n",
              "    </tr>\n",
              "    <tr>\n",
              "      <th>2023-11-03 01:30:00+00:00</th>\n",
              "      <td>34576.312500</td>\n",
              "      <td>34620.750000</td>\n",
              "      <td>34576.312500</td>\n",
              "      <td>34620.750000</td>\n",
              "      <td>16992256</td>\n",
              "      <td>0.0</td>\n",
              "      <td>0.0</td>\n",
              "    </tr>\n",
              "    <tr>\n",
              "      <th>2023-11-03 01:35:00+00:00</th>\n",
              "      <td>34620.519531</td>\n",
              "      <td>34620.519531</td>\n",
              "      <td>34583.906250</td>\n",
              "      <td>34611.015625</td>\n",
              "      <td>8202240</td>\n",
              "      <td>0.0</td>\n",
              "      <td>0.0</td>\n",
              "    </tr>\n",
              "    <tr>\n",
              "      <th>2023-11-03 01:40:00+00:00</th>\n",
              "      <td>34610.500000</td>\n",
              "      <td>34610.500000</td>\n",
              "      <td>34592.175781</td>\n",
              "      <td>34596.496094</td>\n",
              "      <td>4933632</td>\n",
              "      <td>0.0</td>\n",
              "      <td>0.0</td>\n",
              "    </tr>\n",
              "  </tbody>\n",
              "</table>\n",
              "<p>2003 rows × 7 columns</p>\n",
              "</div>\n",
              "    <div class=\"colab-df-buttons\">\n",
              "\n",
              "  <div class=\"colab-df-container\">\n",
              "    <button class=\"colab-df-convert\" onclick=\"convertToInteractive('df-ef9fbae4-9b31-4e49-ac85-7d815cdc27bb')\"\n",
              "            title=\"Convert this dataframe to an interactive table.\"\n",
              "            style=\"display:none;\">\n",
              "\n",
              "  <svg xmlns=\"http://www.w3.org/2000/svg\" height=\"24px\" viewBox=\"0 -960 960 960\">\n",
              "    <path d=\"M120-120v-720h720v720H120Zm60-500h600v-160H180v160Zm220 220h160v-160H400v160Zm0 220h160v-160H400v160ZM180-400h160v-160H180v160Zm440 0h160v-160H620v160ZM180-180h160v-160H180v160Zm440 0h160v-160H620v160Z\"/>\n",
              "  </svg>\n",
              "    </button>\n",
              "\n",
              "  <style>\n",
              "    .colab-df-container {\n",
              "      display:flex;\n",
              "      gap: 12px;\n",
              "    }\n",
              "\n",
              "    .colab-df-convert {\n",
              "      background-color: #E8F0FE;\n",
              "      border: none;\n",
              "      border-radius: 50%;\n",
              "      cursor: pointer;\n",
              "      display: none;\n",
              "      fill: #1967D2;\n",
              "      height: 32px;\n",
              "      padding: 0 0 0 0;\n",
              "      width: 32px;\n",
              "    }\n",
              "\n",
              "    .colab-df-convert:hover {\n",
              "      background-color: #E2EBFA;\n",
              "      box-shadow: 0px 1px 2px rgba(60, 64, 67, 0.3), 0px 1px 3px 1px rgba(60, 64, 67, 0.15);\n",
              "      fill: #174EA6;\n",
              "    }\n",
              "\n",
              "    .colab-df-buttons div {\n",
              "      margin-bottom: 4px;\n",
              "    }\n",
              "\n",
              "    [theme=dark] .colab-df-convert {\n",
              "      background-color: #3B4455;\n",
              "      fill: #D2E3FC;\n",
              "    }\n",
              "\n",
              "    [theme=dark] .colab-df-convert:hover {\n",
              "      background-color: #434B5C;\n",
              "      box-shadow: 0px 1px 3px 1px rgba(0, 0, 0, 0.15);\n",
              "      filter: drop-shadow(0px 1px 2px rgba(0, 0, 0, 0.3));\n",
              "      fill: #FFFFFF;\n",
              "    }\n",
              "  </style>\n",
              "\n",
              "    <script>\n",
              "      const buttonEl =\n",
              "        document.querySelector('#df-ef9fbae4-9b31-4e49-ac85-7d815cdc27bb button.colab-df-convert');\n",
              "      buttonEl.style.display =\n",
              "        google.colab.kernel.accessAllowed ? 'block' : 'none';\n",
              "\n",
              "      async function convertToInteractive(key) {\n",
              "        const element = document.querySelector('#df-ef9fbae4-9b31-4e49-ac85-7d815cdc27bb');\n",
              "        const dataTable =\n",
              "          await google.colab.kernel.invokeFunction('convertToInteractive',\n",
              "                                                    [key], {});\n",
              "        if (!dataTable) return;\n",
              "\n",
              "        const docLinkHtml = 'Like what you see? Visit the ' +\n",
              "          '<a target=\"_blank\" href=https://colab.research.google.com/notebooks/data_table.ipynb>data table notebook</a>'\n",
              "          + ' to learn more about interactive tables.';\n",
              "        element.innerHTML = '';\n",
              "        dataTable['output_type'] = 'display_data';\n",
              "        await google.colab.output.renderOutput(dataTable, element);\n",
              "        const docLink = document.createElement('div');\n",
              "        docLink.innerHTML = docLinkHtml;\n",
              "        element.appendChild(docLink);\n",
              "      }\n",
              "    </script>\n",
              "  </div>\n",
              "\n",
              "\n",
              "<div id=\"df-b18c21c8-a083-415f-b6e6-8a3c445b8ae8\">\n",
              "  <button class=\"colab-df-quickchart\" onclick=\"quickchart('df-b18c21c8-a083-415f-b6e6-8a3c445b8ae8')\"\n",
              "            title=\"Suggest charts.\"\n",
              "            style=\"display:none;\">\n",
              "\n",
              "<svg xmlns=\"http://www.w3.org/2000/svg\" height=\"24px\"viewBox=\"0 0 24 24\"\n",
              "     width=\"24px\">\n",
              "    <g>\n",
              "        <path d=\"M19 3H5c-1.1 0-2 .9-2 2v14c0 1.1.9 2 2 2h14c1.1 0 2-.9 2-2V5c0-1.1-.9-2-2-2zM9 17H7v-7h2v7zm4 0h-2V7h2v10zm4 0h-2v-4h2v4z\"/>\n",
              "    </g>\n",
              "</svg>\n",
              "  </button>\n",
              "\n",
              "<style>\n",
              "  .colab-df-quickchart {\n",
              "      --bg-color: #E8F0FE;\n",
              "      --fill-color: #1967D2;\n",
              "      --hover-bg-color: #E2EBFA;\n",
              "      --hover-fill-color: #174EA6;\n",
              "      --disabled-fill-color: #AAA;\n",
              "      --disabled-bg-color: #DDD;\n",
              "  }\n",
              "\n",
              "  [theme=dark] .colab-df-quickchart {\n",
              "      --bg-color: #3B4455;\n",
              "      --fill-color: #D2E3FC;\n",
              "      --hover-bg-color: #434B5C;\n",
              "      --hover-fill-color: #FFFFFF;\n",
              "      --disabled-bg-color: #3B4455;\n",
              "      --disabled-fill-color: #666;\n",
              "  }\n",
              "\n",
              "  .colab-df-quickchart {\n",
              "    background-color: var(--bg-color);\n",
              "    border: none;\n",
              "    border-radius: 50%;\n",
              "    cursor: pointer;\n",
              "    display: none;\n",
              "    fill: var(--fill-color);\n",
              "    height: 32px;\n",
              "    padding: 0;\n",
              "    width: 32px;\n",
              "  }\n",
              "\n",
              "  .colab-df-quickchart:hover {\n",
              "    background-color: var(--hover-bg-color);\n",
              "    box-shadow: 0 1px 2px rgba(60, 64, 67, 0.3), 0 1px 3px 1px rgba(60, 64, 67, 0.15);\n",
              "    fill: var(--button-hover-fill-color);\n",
              "  }\n",
              "\n",
              "  .colab-df-quickchart-complete:disabled,\n",
              "  .colab-df-quickchart-complete:disabled:hover {\n",
              "    background-color: var(--disabled-bg-color);\n",
              "    fill: var(--disabled-fill-color);\n",
              "    box-shadow: none;\n",
              "  }\n",
              "\n",
              "  .colab-df-spinner {\n",
              "    border: 2px solid var(--fill-color);\n",
              "    border-color: transparent;\n",
              "    border-bottom-color: var(--fill-color);\n",
              "    animation:\n",
              "      spin 1s steps(1) infinite;\n",
              "  }\n",
              "\n",
              "  @keyframes spin {\n",
              "    0% {\n",
              "      border-color: transparent;\n",
              "      border-bottom-color: var(--fill-color);\n",
              "      border-left-color: var(--fill-color);\n",
              "    }\n",
              "    20% {\n",
              "      border-color: transparent;\n",
              "      border-left-color: var(--fill-color);\n",
              "      border-top-color: var(--fill-color);\n",
              "    }\n",
              "    30% {\n",
              "      border-color: transparent;\n",
              "      border-left-color: var(--fill-color);\n",
              "      border-top-color: var(--fill-color);\n",
              "      border-right-color: var(--fill-color);\n",
              "    }\n",
              "    40% {\n",
              "      border-color: transparent;\n",
              "      border-right-color: var(--fill-color);\n",
              "      border-top-color: var(--fill-color);\n",
              "    }\n",
              "    60% {\n",
              "      border-color: transparent;\n",
              "      border-right-color: var(--fill-color);\n",
              "    }\n",
              "    80% {\n",
              "      border-color: transparent;\n",
              "      border-right-color: var(--fill-color);\n",
              "      border-bottom-color: var(--fill-color);\n",
              "    }\n",
              "    90% {\n",
              "      border-color: transparent;\n",
              "      border-bottom-color: var(--fill-color);\n",
              "    }\n",
              "  }\n",
              "</style>\n",
              "\n",
              "  <script>\n",
              "    async function quickchart(key) {\n",
              "      const quickchartButtonEl =\n",
              "        document.querySelector('#' + key + ' button');\n",
              "      quickchartButtonEl.disabled = true;  // To prevent multiple clicks.\n",
              "      quickchartButtonEl.classList.add('colab-df-spinner');\n",
              "      try {\n",
              "        const charts = await google.colab.kernel.invokeFunction(\n",
              "            'suggestCharts', [key], {});\n",
              "      } catch (error) {\n",
              "        console.error('Error during call to suggestCharts:', error);\n",
              "      }\n",
              "      quickchartButtonEl.classList.remove('colab-df-spinner');\n",
              "      quickchartButtonEl.classList.add('colab-df-quickchart-complete');\n",
              "    }\n",
              "    (() => {\n",
              "      let quickchartButtonEl =\n",
              "        document.querySelector('#df-b18c21c8-a083-415f-b6e6-8a3c445b8ae8 button');\n",
              "      quickchartButtonEl.style.display =\n",
              "        google.colab.kernel.accessAllowed ? 'block' : 'none';\n",
              "    })();\n",
              "  </script>\n",
              "</div>\n",
              "    </div>\n",
              "  </div>\n"
            ]
          },
          "metadata": {},
          "execution_count": 53
        }
      ]
    },
    {
      "cell_type": "code",
      "source": [
        "def limpieza_datos():\n",
        "  global df_bitcoin, media_bitcoin\n",
        "\n",
        "  # Crear un duplicado\n",
        "  df_bitcoin_limpio = df_bitcoin.copy()\n",
        "\n",
        "  # Tratar duplicados en el índice (Datetime)\n",
        "\n",
        "  df_bitcoin_limpio = df_bitcoin_limpio[~df_bitcoin_limpio.index.duplicated()]\n",
        "\n",
        "  #  Valores nulos en Close\n",
        "\n",
        "  df_bitcoin_limpio = df_bitcoin_limpio[df_bitcoin_limpio.Close.notna()]\n",
        "\n",
        "  # Valores de Volume mayores a 0\n",
        "\n",
        "  df_bitcoin_limpio = df_bitcoin_limpio.query('Volume > 0')\n",
        "  df_bitcoin_limpio\n",
        "\n",
        "  # Eliminar outliers\n",
        "\n",
        "  Q1 = df_bitcoin_limpio.Close.quantile(0.25)\n",
        "  Q3 = df_bitcoin_limpio.Close.quantile(0.75)\n",
        "  IQR = Q3 - Q1\n",
        "  min_close = Q1 - 1.5 * IQR\n",
        "  max_close = Q3 + 1.5 * IQR\n",
        "\n",
        "  df_bitcoin_limpio = df_bitcoin_limpio.query('Close >= @min_close & Close <= @max_close')\n",
        "\n",
        "  # Seleccionar los datos de Close entre Q1 y Q3\n",
        "\n",
        "  df_bitcoin_limpio_caja = df_bitcoin_limpio.query('Close >= @Q1 & Close <= @Q3')\n",
        "\n",
        "  # Promedio de los datos de Close entre Q1 y Q3\n",
        "  media_bitcoin = df_bitcoin_limpio_caja.Close.mean()"
      ],
      "metadata": {
        "id": "SpX3NRJsbyz9"
      },
      "execution_count": 54,
      "outputs": []
    },
    {
      "cell_type": "markdown",
      "source": [
        "## 4. Tomar decisiones"
      ],
      "metadata": {
        "id": "qi9w-m7_fe29"
      }
    },
    {
      "cell_type": "code",
      "source": [
        "limpieza_datos()\n",
        "extraer_tendencias()"
      ],
      "metadata": {
        "id": "p68Eib6cZmDB"
      },
      "execution_count": 55,
      "outputs": []
    },
    {
      "cell_type": "code",
      "source": [
        "def tomar_decisiones():\n",
        "  global precio_actual, tendencia, media_bitcoin, algoritmo_decision\n",
        "\n",
        "  if precio_actual >= media_bitcoin and tendencia == 'baja':\n",
        "    algoritmo_decision = 'Vender'\n",
        "  elif precio_actual < media_bitcoin and tendencia == 'alta':\n",
        "    algoritmo_decision = 'comprar'\n",
        "  else:\n",
        "    algoritmo_decision = ''"
      ],
      "metadata": {
        "id": "_IAOBUjPZs8_"
      },
      "execution_count": 56,
      "outputs": []
    },
    {
      "cell_type": "markdown",
      "source": [
        "## 5. Visualización"
      ],
      "metadata": {
        "id": "qCFlHgfpbcqQ"
      }
    },
    {
      "cell_type": "code",
      "source": [
        "def visualizacion():\n",
        "  global df_bitcoin, precio_actual, tendencia, media_bitcoin,  algoritmo_decision\n",
        "\n",
        "  df_bitcoin['Promedio'] = media_bitcoin\n",
        "\n",
        "  color_legend = {\n",
        "      'baja' : 'r',\n",
        "      'alta' : 'g'\n",
        "  }\n",
        "\n",
        "  plt.figure(figsize = (16, 5))\n",
        "  plt.title('Histórico de los últimos 7 días del Bitcoin (USD)')\n",
        "  sns.lineplot(data = df_bitcoin[['Close', 'Promedio']], palette = {'Close' : 'b', 'Promedio' : 'r'})\n",
        "  plt.annotate(f'A la {tendencia}', (df_bitcoin.index.max(), df_bitcoin.tail(1).Close), color = color_legend[tendencia])\n",
        "  plt.show()"
      ],
      "metadata": {
        "id": "FkleuAucbhG-"
      },
      "execution_count": 57,
      "outputs": []
    },
    {
      "cell_type": "markdown",
      "source": [
        "## 6. Automatización"
      ],
      "metadata": {
        "id": "HHSkD1SPn030"
      }
    },
    {
      "cell_type": "code",
      "source": [
        "from IPython.display import clear_output\n",
        "import time"
      ],
      "metadata": {
        "id": "d7csPcILoQ3r"
      },
      "execution_count": 58,
      "outputs": []
    },
    {
      "cell_type": "code",
      "source": [
        "while(True):\n",
        "  clear_output()\n",
        "  importar_base_bitcoin()\n",
        "  extraer_tendencias()\n",
        "  limpieza_datos()\n",
        "  tomar_decisiones()\n",
        "  visualizacion()\n",
        "  time.sleep(300)"
      ],
      "metadata": {
        "colab": {
          "base_uri": "https://localhost:8080/",
          "height": 683
        },
        "id": "1HMWjN4eoPfo",
        "outputId": "ea8c5645-0809-4e25-b2d6-239c748f7966"
      },
      "execution_count": 59,
      "outputs": [
        {
          "output_type": "display_data",
          "data": {
            "text/plain": [
              "<Figure size 1600x500 with 1 Axes>"
            ],
            "image/png": "[encoded data removed]"
          },
          "metadata": {}
        },
        {
          "output_type": "error",
          "ename": "KeyboardInterrupt",
          "evalue": "ignored",
          "traceback": [
            "\u001b[0;31m---------------------------------------------------------------------------\u001b[0m",
            "\u001b[0;31mKeyboardInterrupt\u001b[0m                         Traceback (most recent call last)",
            "\u001b[0;32m<ipython-input-59-88c8911ab8c4>\u001b[0m in \u001b[0;36m<cell line: 1>\u001b[0;34m()\u001b[0m\n\u001b[1;32m      6\u001b[0m   \u001b[0mtomar_decisiones\u001b[0m\u001b[0;34m(\u001b[0m\u001b[0;34m)\u001b[0m\u001b[0;34m\u001b[0m\u001b[0;34m\u001b[0m\u001b[0m\n\u001b[1;32m      7\u001b[0m   \u001b[0mvisualizacion\u001b[0m\u001b[0;34m(\u001b[0m\u001b[0;34m)\u001b[0m\u001b[0;34m\u001b[0m\u001b[0;34m\u001b[0m\u001b[0m\n\u001b[0;32m----> 8\u001b[0;31m   \u001b[0mtime\u001b[0m\u001b[0;34m.\u001b[0m\u001b[0msleep\u001b[0m\u001b[0;34m(\u001b[0m\u001b[0;36m300\u001b[0m\u001b[0;34m)\u001b[0m\u001b[0;34m\u001b[0m\u001b[0;34m\u001b[0m\u001b[0m\n\u001b[0m",
            "\u001b[0;31mKeyboardInterrupt\u001b[0m: "
          ]
        }
      ]
    }
  ]
}